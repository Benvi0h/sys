{
 "cells": [
  {
   "cell_type": "code",
   "execution_count": 43,
   "id": "a222f394-0103-4597-a5d5-0208e26c26c5",
   "metadata": {
    "canvas": {
     "comments": [],
     "componentType": "CodeCell",
     "copiedOriginId": null,
     "diskcache": false,
     "headerColor": "transparent",
     "id": "f324e975-0883-4b0f-8d85-4db3752e096e",
     "isComponent": false,
     "name": "",
     "parents": []
    },
    "tags": []
   },
   "outputs": [],
   "source": [
    "import pandas as pd\n",
    "import numpy as np\n",
    "import matplotlib.pyplot as plt"
   ]
  },
  {
   "cell_type": "code",
   "execution_count": 44,
   "id": "d12b0e86-61e1-41c0-9c70-1b216343d2c3",
   "metadata": {
    "canvas": {
     "comments": [],
     "componentType": "CodeCell",
     "copiedOriginId": null,
     "diskcache": false,
     "headerColor": "transparent",
     "id": "e88553fe-88f0-4c24-bdaf-fe1812c54d5b",
     "isComponent": false,
     "name": "",
     "parents": []
    }
   },
   "outputs": [
    {
     "data": {
      "text/html": [
       "<div>\n",
       "<style scoped>\n",
       "    .dataframe tbody tr th:only-of-type {\n",
       "        vertical-align: middle;\n",
       "    }\n",
       "\n",
       "    .dataframe tbody tr th {\n",
       "        vertical-align: top;\n",
       "    }\n",
       "\n",
       "    .dataframe thead th {\n",
       "        text-align: right;\n",
       "    }\n",
       "</style>\n",
       "<table border=\"1\" class=\"dataframe\">\n",
       "  <thead>\n",
       "    <tr style=\"text-align: right;\">\n",
       "      <th></th>\n",
       "      <th>X1</th>\n",
       "      <th>Y</th>\n",
       "    </tr>\n",
       "  </thead>\n",
       "  <tbody>\n",
       "    <tr>\n",
       "      <th>0</th>\n",
       "      <td>6.1101</td>\n",
       "      <td>17.5920</td>\n",
       "    </tr>\n",
       "    <tr>\n",
       "      <th>1</th>\n",
       "      <td>5.5277</td>\n",
       "      <td>9.1302</td>\n",
       "    </tr>\n",
       "    <tr>\n",
       "      <th>2</th>\n",
       "      <td>8.5186</td>\n",
       "      <td>13.6620</td>\n",
       "    </tr>\n",
       "    <tr>\n",
       "      <th>3</th>\n",
       "      <td>7.0032</td>\n",
       "      <td>11.8540</td>\n",
       "    </tr>\n",
       "    <tr>\n",
       "      <th>4</th>\n",
       "      <td>5.8598</td>\n",
       "      <td>6.8233</td>\n",
       "    </tr>\n",
       "  </tbody>\n",
       "</table>\n",
       "</div>"
      ],
      "text/plain": [
       "      X1         Y\n",
       "0  6.1101  17.5920\n",
       "1  5.5277   9.1302\n",
       "2  8.5186  13.6620\n",
       "3  7.0032  11.8540\n",
       "4  5.8598   6.8233"
      ]
     },
     "execution_count": 44,
     "metadata": {},
     "output_type": "execute_result"
    }
   ],
   "source": [
    "df = pd.read_csv(\"Food-Truck(For Linear Regression Program).csv\")\n",
    "df.head()"
   ]
  },
  {
   "cell_type": "code",
   "execution_count": 45,
   "id": "c8c4873f-d7b5-420d-8001-bf436ba214d0",
   "metadata": {
    "canvas": {
     "comments": [],
     "componentType": "CodeCell",
     "copiedOriginId": null,
     "diskcache": false,
     "headerColor": "transparent",
     "id": "e7dda55c-92b8-4aae-ae95-fc8d96bce362",
     "isComponent": false,
     "name": "",
     "parents": []
    }
   },
   "outputs": [],
   "source": [
    "X = df[\"X1 \"]\n",
    "y = df[\"Y\"]"
   ]
  },
  {
   "cell_type": "code",
   "execution_count": 76,
   "id": "0bbbf19a-9b3f-47cb-ab0c-e98da830fea3",
   "metadata": {
    "canvas": {
     "comments": [],
     "componentType": "CodeCell",
     "copiedOriginId": null,
     "diskcache": false,
     "headerColor": "transparent",
     "id": "3d65aa43-eac7-4ac2-b61a-4bca40cceb35",
     "isComponent": false,
     "name": "",
     "parents": []
    }
   },
   "outputs": [],
   "source": [
    "class LinearRegression:\n",
    "    def __init__(self):\n",
    "        self.m = 0\n",
    "        self.b = 0\n",
    "        \n",
    "    \n",
    "    def linear_equation(self,x):\n",
    "        y = []\n",
    "        for xi in x:\n",
    "            y.append(self.m*xi + self.b)\n",
    "        return y\n",
    "    \n",
    "    def predict(self,X):\n",
    "        return self.linear_equation(X)\n",
    "    \n",
    "    def mean(self,X):\n",
    "        summ = 0\n",
    "        for val in X:\n",
    "            summ += val\n",
    "        return summ/len(X)\n",
    "    \n",
    "    def fit(self,X,y):\n",
    "        numerator = 0\n",
    "        denominator = 0\n",
    "        xmean =  self.mean(X)\n",
    "        ymean = self.mean(y)\n",
    "        \n",
    "        for xi,yi in zip(X,y):\n",
    "            numerator += (xi - xmean ) * (yi - ymean)\n",
    "            denominator += (xi - self.mean(X)) ** 2\n",
    "        w = 0\n",
    "        w = numerator / denominator\n",
    "        self.m = w\n",
    "        \n",
    "        intercept = 0\n",
    "        intercept = self.mean(y) - self.m*self.mean(X)\n",
    "        self.b = intercept\n",
    "    \n",
    "    def ssr_(self, x, y):\n",
    "        ssr = 0\n",
    "        y_pred = self.linear_equation(x)\n",
    "        for yi, yi_cap in zip(y, y_pred):\n",
    "            ssr += (yi - yi_cap)**2\n",
    "        return ssr\n",
    "    \n",
    "    def sst_(self, x, y):\n",
    "        sst = 0\n",
    "        y_mean = self.mean(y)\n",
    "        for yi in y:\n",
    "            sst += (yi - y_mean)**2\n",
    "        return sst\n",
    "    \n",
    "    def r2_(self, x, y):\n",
    "        r2 = 0\n",
    "        ssr = self.ssr_(x,y)\n",
    "        sst = self.sst_(x,y)\n",
    "        \n",
    "        r2 = 1 - (ssr / sst)\n",
    "        return r2\n",
    "    \n",
    "    def sse_(self, x, y):\n",
    "        sse = 0\n",
    "        y_pred = self.linear_equation(y)\n",
    "        for i,ycap in zip(y, y_pred):\n",
    "            sse+= (i-ycap)**2\n",
    "        return(sse)"
   ]
  },
  {
   "cell_type": "code",
   "execution_count": 77,
   "id": "fffe6475-c749-4c60-b83a-7c5cd141e468",
   "metadata": {
    "canvas": {
     "comments": [],
     "componentType": "CodeCell",
     "copiedOriginId": null,
     "diskcache": false,
     "headerColor": "transparent",
     "id": "e6c6d169-7db3-4d9d-864f-f035e97d5915",
     "isComponent": false,
     "name": "",
     "parents": []
    }
   },
   "outputs": [],
   "source": [
    "obj = LinearRegression()\n",
    "obj.fit(X,y)"
   ]
  },
  {
   "cell_type": "code",
   "execution_count": 78,
   "id": "91a97b0e-87e0-4cf0-9836-bdeea19e918b",
   "metadata": {
    "canvas": {
     "comments": [],
     "componentType": "CodeCell",
     "copiedOriginId": null,
     "diskcache": false,
     "headerColor": "transparent",
     "id": "2775e9d6-3a97-40a4-a0e2-f6fd5a9ffe6e",
     "isComponent": false,
     "name": "",
     "parents": []
    }
   },
   "outputs": [
    {
     "data": {
      "text/plain": [
       "<function matplotlib.pyplot.show(close=None, block=None)>"
      ]
     },
     "execution_count": 78,
     "metadata": {},
     "output_type": "execute_result"
    },
    {
     "data": {
      "image/png": "[encoded data removed]",
      "text/plain": [
       "<Figure size 640x480 with 1 Axes>"
      ]
     },
     "metadata": {},
     "output_type": "display_data"
    }
   ],
   "source": [
    "y_pred = obj.predict(X)\n",
    "\n",
    "plt.scatter(X,y)\n",
    "plt.plot(X,y_pred,color = \"red\")\n",
    "plt.show"
   ]
  },
  {
   "cell_type": "code",
   "execution_count": 79,
   "id": "3313dc32-45d5-425c-afed-6c6ac36d44b1",
   "metadata": {
    "canvas": {
     "comments": [],
     "componentType": "CodeCell",
     "copiedOriginId": null,
     "diskcache": false,
     "headerColor": "transparent",
     "id": "a35e6b2c-e970-4302-93eb-ecbd97c55376",
     "isComponent": false,
     "name": "",
     "parents": []
    }
   },
   "outputs": [
    {
     "name": "stdout",
     "output_type": "stream",
     "text": [
      "868.5324469391843\n",
      "2914.8470516572247\n",
      "0.7020315537841398\n",
      "852.1489973938643\n"
     ]
    }
   ],
   "source": [
    "print(obj.ssr_(X,y))\n",
    "print(obj.sst_(X,y))\n",
    "print(obj.r2_(X,y))\n",
    "print(obj.sse_(X,y))"
   ]
  }
 ],
 "metadata": {
  "canvas": {
   "colorPalette": [
    "inherit",
    "inherit",
    "inherit",
    "inherit",
    "inherit",
    "inherit",
    "inherit",
    "inherit",
    "inherit",
    "inherit"
   ],
   "parameters": [],
   "version": "1.0"
  },
  "kernelspec": {
   "display_name": "Python 3 (ipykernel)",
   "language": "python",
   "name": "python3"
  },
  "language_info": {
   "codemirror_mode": {
    "name": "ipython",
    "version": 3
   },
   "file_extension": ".py",
   "mimetype": "text/x-python",
   "name": "python",
   "nbconvert_exporter": "python",
   "pygments_lexer": "ipython3",
   "version": "3.10.0"
  }
 },
 "nbformat": 4,
 "nbformat_minor": 5
}
