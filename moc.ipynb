{
 "cells": [
  {
   "cell_type": "code",
   "execution_count": 161,
   "metadata": {
    "canvas": {
     "comments": [],
     "componentType": "CodeCell",
     "copiedOriginId": null,
     "diskcache": false,
     "headerColor": "transparent",
     "id": "259b1625-de13-47d6-837c-2a5b8199f394",
     "isComponent": false,
     "name": "",
     "parents": []
    },
    "tags": []
   },
   "outputs": [],
   "source": [
    "import pandas as pd\n",
    "import numpy as np\n",
    "import math"
   ]
  },
  {
   "cell_type": "code",
   "execution_count": 162,
   "metadata": {
    "canvas": {
     "comments": [],
     "componentType": "CodeCell",
     "copiedOriginId": null,
     "diskcache": false,
     "headerColor": "transparent",
     "id": "a0add816-bff0-492d-a03e-4a19d447912d",
     "isComponent": false,
     "name": "",
     "parents": []
    }
   },
   "outputs": [
    {
     "name": "stdout",
     "output_type": "stream",
     "text": [
      "[115.3 115.3 115.3 195.5 120.5 110.2  90.4 105.6 110.9 116.3 122.3 125.4]\n"
     ]
    }
   ],
   "source": [
    "arr = np.array([115.3, 115.3,115.3, 195.5, 120.5, 110.2, 90.4, 105.6, 110.9, 116.3, 122.3, 125.4])\n",
    "print(arr)"
   ]
  },
  {
   "cell_type": "code",
   "execution_count": 163,
   "metadata": {
    "canvas": {
     "comments": [],
     "componentType": "CodeCell",
     "copiedOriginId": null,
     "diskcache": false,
     "headerColor": "transparent",
     "id": "2bb5a907-ab00-4f45-aed3-55c05fdec313",
     "isComponent": false,
     "name": "",
     "parents": []
    }
   },
   "outputs": [],
   "source": [
    "class statistics:\n",
    "    \n",
    "    def __init__(self):\n",
    "        self.mean = 0\n",
    "        self.median_val = 0\n",
    "        self.mode_val = []\n",
    "        self.Standard_deviation_val = 0\n",
    "        self.variance_val = 0 \n",
    "        self.min_max_norm_val = []\n",
    "        self.standardization_val = []\n",
    "\n",
    "\n",
    "    def mean_calc(self,arr):\n",
    "        sum =  0\n",
    "        \n",
    "        for val in arr:\n",
    "            sum += val\n",
    "            self.mean = sum/len(arr)\n",
    "        return sum/len(arr)\n",
    "    \n",
    "    def median_calc(self,arr):\n",
    "        med = 0\n",
    "        val1 = 0 \n",
    "        val2 = 0\n",
    "        med_val = 0\n",
    "        \n",
    "        arr.sort()\n",
    "        med = len(arr)\n",
    "\n",
    "        if med %2 == 0:\n",
    "            val1 = int(med/2)\n",
    "            val2 = int(val1+1)\n",
    "            med_val = (arr[val1] + arr[val2])/2\n",
    "            self.median_val = med_val\n",
    "            return med_val\n",
    "\n",
    "        else:\n",
    "            val1 = int((med+1)/2)\n",
    "            self.median_val = arr[val1]\n",
    "            return arr[val1]\n",
    "        return 0\n",
    "\n",
    "    def mode_calc(self,arr):\n",
    "        values_arr = []\n",
    "        mode_dict = {}\n",
    "        max_value = 0\n",
    "        max_key = 0\n",
    "        \n",
    "        for value in arr:\n",
    "            mode_dict[value] = 0\n",
    "        for value in arr:\n",
    "            mode_dict[value] += 1\n",
    "            \n",
    "        max_value = max(mode_dict.values())\n",
    "        max_key = max(mode_dict, key=mode_dict.get)\n",
    "        \n",
    "        for value in mode_dict:\n",
    "            if mode_dict[value] == max_value:\n",
    "                values_arr.append(value)\n",
    "        self.mode_val = values_arr\n",
    "        \n",
    "        return self.mode_val\n",
    "    \n",
    "    def varience_calc(self, arr, sample = 0):\n",
    "        sum = 0\n",
    "        var_mean = self.mean_calc(arr)\n",
    "        for xi in arr:\n",
    "            sum += (xi - var_mean)**2\n",
    "        if sample == 1:\n",
    "            vari = sum / (len(arr)-1)\n",
    "        else:\n",
    "            vari = round(sum / len(arr),2)\n",
    "        self.variance_val = vari\n",
    "        return vari\n",
    "\n",
    "    def standard_dev_calc(self, arr):\n",
    "        var = 0\n",
    "        var = self.varience_calc(arr)\n",
    "        sd = round(math.sqrt(var),2)\n",
    "        self.Standard_deviation_val = sd\n",
    "        return sd\n",
    "\n",
    "    def normalize_calc(self, arr):\n",
    "        sum = []\n",
    "        max_val = max(arr)\n",
    "        min_val = min(arr)\n",
    "\n",
    "        for value in arr:\n",
    "            sum.append(round((value - min_val) / (max_val - min_val),2))\n",
    "        self.min_max_norm_val = sum\n",
    "\n",
    "        return sum\n",
    "\n",
    "   \n",
    "    def standardize_calc(self, arr):\n",
    "        sum = []\n",
    "        sd = self.standard_dev_calc(arr)\n",
    "        mean = self.mean_calc(arr)\n",
    "\n",
    "        for value in arr:\n",
    "            sum.append(round((value - mean) / sd, 2))\n",
    "        self.standardization_val = sum\n",
    "        return sum\n",
    "        \n",
    "    def Pipeline(self,arr, mean_ = 0, median_ = 0, mode_ = 0, sd = 0, vari = 0, norm = 0, std = 0, all = 0):\n",
    "        calculations_arr = ['mean', 'median', 'mode', 'sd', 'vari', 'norm', 'std']\n",
    "        res = {}\n",
    "        for calc in calculations_arr:\n",
    "            res[calc] = 0\n",
    "            \n",
    "        if mean_== 1 or all == 1:\n",
    "            res['mean'] = self.mean_calc(arr)\n",
    "        if median_== 1 or all == 1:\n",
    "            res['median'] = self.median_calc(arr) \n",
    "        if mode_== 1 or all == 1:\n",
    "            res['mode'] = self.mode_calc(arr)\n",
    "        if vari== 1 or all == 1:\n",
    "            res['vari'] = self.varience_calc(arr)\n",
    "        if sd== 1 or all == 1:\n",
    "            res['sd'] = self.standard_dev_calc(arr)\n",
    "        if norm== 1 or all == 1:\n",
    "            res['norm'] = self.normalize_calc(arr)\n",
    "        if std== 1 or all == 1:\n",
    "            res['std'] = self.standardize_calc(arr)\n",
    "\n",
    "        return res"
   ]
  },
  {
   "cell_type": "code",
   "execution_count": 169,
   "metadata": {
    "canvas": {
     "comments": [],
     "componentType": "CodeCell",
     "copiedOriginId": null,
     "diskcache": false,
     "headerColor": "transparent",
     "id": "631f542d-b264-4e59-83d1-8e7303f7bc5f",
     "isComponent": false,
     "name": "",
     "parents": []
    }
   },
   "outputs": [
    {
     "name": "stdout",
     "output_type": "stream",
     "text": [
      "{'mean': 120.25, 'median': 115.8, 'mode': [115.3], 'sd': 24.28, 'vari': 589.71, 'norm': [0.0, 0.14, 0.19, 0.2, 0.24, 0.24, 0.24, 0.25, 0.29, 0.3, 0.33, 1.0], 'std': [-1.23, -0.6, -0.41, -0.39, -0.2, -0.2, -0.2, -0.16, 0.01, 0.08, 0.21, 3.1]}\n"
     ]
    }
   ],
   "source": [
    "obj = statistics()\n",
    "res = obj.Pipeline(arr, all = 1)\n",
    "print(res)"
   ]
  }
 ],
 "metadata": {
  "canvas": {
   "colorPalette": [
    "inherit",
    "inherit",
    "inherit",
    "inherit",
    "inherit",
    "inherit",
    "inherit",
    "inherit",
    "inherit",
    "inherit"
   ],
   "parameters": [],
   "version": "1.0"
  },
  "kernelspec": {
   "display_name": "Python 3 (ipykernel)",
   "language": "python",
   "name": "python3"
  },
  "language_info": {
   "codemirror_mode": {
    "name": "ipython",
    "version": 3
   },
   "file_extension": ".py",
   "mimetype": "text/x-python",
   "name": "python",
   "nbconvert_exporter": "python",
   "pygments_lexer": "ipython3",
   "version": "3.10.0"
  },
  "vscode": {
   "interpreter": {
    "hash": "916dbcbb3f70747c44a77c7bcd40155683ae19c65e1c03b4aa3499c5328201f1"
   }
  }
 },
 "nbformat": 4,
 "nbformat_minor": 4
}
