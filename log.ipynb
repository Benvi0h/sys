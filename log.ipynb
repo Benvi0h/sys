{
 "cells": [
  {
   "cell_type": "code",
   "execution_count": 93,
   "id": "9a75cb24-c512-4758-a092-b6a9cb77c801",
   "metadata": {
    "canvas": {
     "comments": [],
     "componentType": "CodeCell",
     "copiedOriginId": null,
     "diskcache": false,
     "headerColor": "transparent",
     "id": "acb0e3e4-429f-4940-b4d4-b2d0126ad508",
     "isComponent": false,
     "name": "",
     "parents": []
    },
    "tags": []
   },
   "outputs": [],
   "source": [
    "import numpy as np \n",
    "import pandas as pd\n",
    "import matplotlib.pyplot as plt\n",
    "from sklearn import preprocessing\n",
    "from sklearn.model_selection import train_test_split\n",
    "from sklearn.metrics import accuracy_score"
   ]
  },
  {
   "cell_type": "code",
   "execution_count": 94,
   "id": "def0bb1c-62cb-4673-9266-4a6594025670",
   "metadata": {
    "canvas": {
     "comments": [],
     "componentType": "CodeCell",
     "copiedOriginId": null,
     "diskcache": false,
     "headerColor": "transparent",
     "id": "f48b5b58-a812-450d-89cc-f6ed93f51d66",
     "isComponent": false,
     "name": "",
     "parents": []
    }
   },
   "outputs": [
    {
     "data": {
      "text/html": [
       "<div>\n",
       "<style scoped>\n",
       "    .dataframe tbody tr th:only-of-type {\n",
       "        vertical-align: middle;\n",
       "    }\n",
       "\n",
       "    .dataframe tbody tr th {\n",
       "        vertical-align: top;\n",
       "    }\n",
       "\n",
       "    .dataframe thead th {\n",
       "        text-align: right;\n",
       "    }\n",
       "</style>\n",
       "<table border=\"1\" class=\"dataframe\">\n",
       "  <thead>\n",
       "    <tr style=\"text-align: right;\">\n",
       "      <th></th>\n",
       "      <th>Attribute 1</th>\n",
       "      <th>Attribute 2</th>\n",
       "      <th>Target</th>\n",
       "    </tr>\n",
       "  </thead>\n",
       "  <tbody>\n",
       "    <tr>\n",
       "      <th>0</th>\n",
       "      <td>34.623660</td>\n",
       "      <td>78.024693</td>\n",
       "      <td>0</td>\n",
       "    </tr>\n",
       "    <tr>\n",
       "      <th>1</th>\n",
       "      <td>30.286711</td>\n",
       "      <td>43.894998</td>\n",
       "      <td>0</td>\n",
       "    </tr>\n",
       "    <tr>\n",
       "      <th>2</th>\n",
       "      <td>35.847409</td>\n",
       "      <td>72.902198</td>\n",
       "      <td>0</td>\n",
       "    </tr>\n",
       "    <tr>\n",
       "      <th>3</th>\n",
       "      <td>60.182599</td>\n",
       "      <td>86.308552</td>\n",
       "      <td>1</td>\n",
       "    </tr>\n",
       "    <tr>\n",
       "      <th>4</th>\n",
       "      <td>79.032736</td>\n",
       "      <td>75.344376</td>\n",
       "      <td>1</td>\n",
       "    </tr>\n",
       "  </tbody>\n",
       "</table>\n",
       "</div>"
      ],
      "text/plain": [
       "   Attribute 1  Attribute 2  Target\n",
       "0    34.623660    78.024693       0\n",
       "1    30.286711    43.894998       0\n",
       "2    35.847409    72.902198       0\n",
       "3    60.182599    86.308552       1\n",
       "4    79.032736    75.344376       1"
      ]
     },
     "execution_count": 94,
     "metadata": {},
     "output_type": "execute_result"
    }
   ],
   "source": [
    "df = pd.read_csv(\"Student-University(For Logistic Regression Program).csv\")\n",
    "df.head()"
   ]
  },
  {
   "cell_type": "code",
   "execution_count": 95,
   "id": "c082f0a7-e6bc-4026-88c5-502aab4ecf6a",
   "metadata": {
    "canvas": {
     "comments": [],
     "componentType": "CodeCell",
     "copiedOriginId": null,
     "diskcache": false,
     "headerColor": "transparent",
     "id": "747112df-a94e-4e5b-b42b-7be4a13a6174",
     "isComponent": false,
     "name": "",
     "parents": []
    }
   },
   "outputs": [],
   "source": [
    "X = df.drop(\"Target\", axis = 1).values\n",
    "y = df[\"Target\"].values\n",
    "\n",
    "X_scaled = preprocessing.scale(X)"
   ]
  },
  {
   "cell_type": "code",
   "execution_count": 96,
   "id": "e4c9f56f-af9f-48d8-953d-aede26eb966b",
   "metadata": {
    "canvas": {
     "comments": [],
     "componentType": "CodeCell",
     "copiedOriginId": null,
     "diskcache": false,
     "headerColor": "transparent",
     "id": "7f033cff-8778-4766-a156-013d6b769d2d",
     "isComponent": false,
     "name": "",
     "parents": []
    }
   },
   "outputs": [],
   "source": [
    "Xtrain, Xtest, y_train, ytest = train_test_split(X_scaled, y, test_size=0.3)"
   ]
  },
  {
   "cell_type": "code",
   "execution_count": 107,
   "id": "01a1b41c-e9a7-4d7f-b087-89fe0cf9057f",
   "metadata": {
    "canvas": {
     "comments": [],
     "componentType": "CodeCell",
     "copiedOriginId": null,
     "diskcache": false,
     "headerColor": "transparent",
     "id": "16abde96-8e7c-49a6-a610-03f1b1d7221f",
     "isComponent": false,
     "name": "",
     "parents": []
    }
   },
   "outputs": [],
   "source": [
    "x1 = Xtrain[:,0]\n",
    "x2 = Xtrain[:,1]\n",
    "w1 = 0.0\n",
    "w2 = 0.0\n",
    "b = 0.0\n",
    "epochs = 100\n",
    "alpha = 0.01\n",
    "while (epochs>0):\n",
    "    for i in range(len(Xtrain)):\n",
    "        prediction = 1 / (1 + np.exp(-(w1*x1[i]+ w2*x2[i] + b)))\n",
    "        w1 = w1 + alpha*(y_train[i] - prediction)*prediction*(1-prediction)*x1[i]\n",
    "        w2 = w2 + alpha*(y_train[i] - prediction)*prediction*(1-prediction)*x2[i]    \n",
    "        b = b + alpha*(y_train[i] - prediction)*prediction*(1-prediction)*1.0  \n",
    "    epochs = epochs - 1"
   ]
  },
  {
   "cell_type": "code",
   "execution_count": 110,
   "id": "06c513ab-b85c-4f40-99da-88d7c2f4d787",
   "metadata": {
    "canvas": {
     "comments": [],
     "componentType": "CodeCell",
     "copiedOriginId": null,
     "diskcache": false,
     "headerColor": "transparent",
     "id": "2a0e3854-be3a-4df0-92e9-e27b3301d496",
     "isComponent": false,
     "name": "",
     "parents": []
    }
   },
   "outputs": [],
   "source": [
    "x3 = Xtest[:,0]\n",
    "x4 = Xtest[:,1]\n",
    "y_pred=[0]*len(Xtest)\n",
    "\n",
    "for i in range(len(Xtest)):\n",
    "    y_pred[i]=np.round(1/(1+np.exp(-(b+w1*x3[i]+w2*x4[i]))))"
   ]
  },
  {
   "cell_type": "code",
   "execution_count": 112,
   "id": "bfc51cb1-2219-47bf-b452-d9358e90a0f4",
   "metadata": {
    "canvas": {
     "comments": [],
     "componentType": "CodeCell",
     "copiedOriginId": null,
     "diskcache": false,
     "headerColor": "transparent",
     "id": "a90c1e84-72d5-45ee-93fe-866c47a67143",
     "isComponent": false,
     "name": "",
     "parents": []
    }
   },
   "outputs": [
    {
     "data": {
      "text/plain": [
       "0.8333333333333334"
      ]
     },
     "execution_count": 112,
     "metadata": {},
     "output_type": "execute_result"
    }
   ],
   "source": [
    "accuracy_score(ytest, y_pred)"
   ]
  }
 ],
 "metadata": {
  "canvas": {
   "colorPalette": [
    "inherit",
    "inherit",
    "inherit",
    "inherit",
    "inherit",
    "inherit",
    "inherit",
    "inherit",
    "inherit",
    "inherit"
   ],
   "parameters": [],
   "version": "1.0"
  },
  "kernelspec": {
   "display_name": "Python 3 (ipykernel)",
   "language": "python",
   "name": "python3"
  },
  "language_info": {
   "codemirror_mode": {
    "name": "ipython",
    "version": 3
   },
   "file_extension": ".py",
   "mimetype": "text/x-python",
   "name": "python",
   "nbconvert_exporter": "python",
   "pygments_lexer": "ipython3",
   "version": "3.10.0"
  }
 },
 "nbformat": 4,
 "nbformat_minor": 5
}
